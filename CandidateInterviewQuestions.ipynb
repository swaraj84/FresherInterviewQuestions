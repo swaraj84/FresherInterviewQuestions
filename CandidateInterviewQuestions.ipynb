{
 "cells": [
  {
   "cell_type": "code",
   "execution_count": 1,
   "metadata": {},
   "outputs": [],
   "source": [
    "%load_ext rpy2.ipython\n",
    "import pandas as pd\n",
    "import numpy as np"
   ]
  },
  {
   "cell_type": "markdown",
   "metadata": {},
   "source": [
    "# Questions of list of integers or characters"
   ]
  },
  {
   "cell_type": "markdown",
   "metadata": {},
   "source": [
    "## Sorting a series of  numbers\n",
    "\n",
    " Take a series of numbers and without using any pre defined sort function, order them in ascending order.\n",
    "\n",
    "### Python"
   ]
  },
  {
   "cell_type": "code",
   "execution_count": 27,
   "metadata": {
    "scrolled": true
   },
   "outputs": [
    {
     "name": "stdout",
     "output_type": "stream",
     "text": [
      "('Unsorted numbers:', [3, 4, 1, 5, 2])\n",
      "('Sorted numbers:', [1, 2, 3, 4, 5])\n"
     ]
    }
   ],
   "source": [
    "#Input\n",
    "num = [3,4,1,5,2];\n",
    "\n",
    "#solution\n",
    "print(\"Unsorted numbers:\", num)\n",
    "lenNum = len(num)\n",
    "\n",
    "for i in range(lenNum):\n",
    "  for j in range(i+1, lenNum):\n",
    "    if(num[i]>num[j]):\n",
    "      tmp =  num[i]\n",
    "      num[i] = num[j]\n",
    "      num[j] = tmp\n",
    "\n",
    "print(\"Sorted numbers:\", num)"
   ]
  },
  {
   "cell_type": "markdown",
   "metadata": {},
   "source": [
    "### R"
   ]
  },
  {
   "cell_type": "code",
   "execution_count": 63,
   "metadata": {},
   "outputs": [
    {
     "data": {
      "text/plain": [
       "Unsorted numbers:  3 4 1 5 2 \n",
       "Sorted numbers:  1 2 3 4 5 \n"
      ]
     },
     "metadata": {},
     "output_type": "display_data"
    }
   ],
   "source": [
    "%%R\n",
    "\n",
    "#Input \n",
    "num = c(3,4,1,5,2)\n",
    "\n",
    "#solution\n",
    "cat(\"Unsorted numbers: \", num,\"\\n\")\n",
    "\n",
    "index1 = length(num) - 1 \n",
    "index2 = length(num)\n",
    "\n",
    "for(i in 1:index1){\n",
    "  k<-i+1\n",
    "  for(j in k:index2){\n",
    "    if(num[i]>num[j]){\n",
    "      tmp<-num[i]\n",
    "      num[i]<-num[j]\n",
    "      num[j]<-tmp\n",
    "    }\n",
    "  }\n",
    "}\n",
    "cat(\"Sorted numbers: \", num,\"\\n\")"
   ]
  },
  {
   "cell_type": "markdown",
   "metadata": {},
   "source": [
    "## Compare two set of characters\n",
    "\n",
    "Compare two sets of values against each other and find the matches, without using any function\n",
    "\n",
    "### Python"
   ]
  },
  {
   "cell_type": "code",
   "execution_count": 113,
   "metadata": {},
   "outputs": [
    {
     "name": "stdout",
     "output_type": "stream",
     "text": [
      "['m', 'g']\n"
     ]
    }
   ],
   "source": [
    "#Input\n",
    "listA = [\"a\",\"m\",\"v\",\"c\",\"g\"];\n",
    "listB = [\"b\",\"g\",\"m\",\"d\",\"q\",\"f\"];\n",
    "\n",
    "#solution\n",
    "lenA = len(listA)\n",
    "lenB = len(listB)\n",
    "\n",
    "listM = []\n",
    "\n",
    "for i in range(lenA):\n",
    "  for j in range(lenB):\n",
    "    if(listA[i]==listB[j]):\n",
    "      listM.append(listA[i])\n",
    "    \n",
    "print(listM)"
   ]
  },
  {
   "cell_type": "markdown",
   "metadata": {},
   "source": [
    "### R"
   ]
  },
  {
   "cell_type": "code",
   "execution_count": 119,
   "metadata": {},
   "outputs": [
    {
     "data": {
      "text/plain": [
       "m g \n"
      ]
     },
     "metadata": {},
     "output_type": "display_data"
    }
   ],
   "source": [
    "%%R\n",
    "\n",
    "#Input\n",
    "vecA = c(\"a\",\"m\",\"v\",\"c\",\"g\")\n",
    "vecB = c(\"b\",\"g\",\"m\",\"d\",\"q\",\"f\")\n",
    "\n",
    "#solution\n",
    "vecM = vector()\n",
    "\n",
    "k=1\n",
    "for(i in 1:length(vecA)){\n",
    "  for(j in 1:length(vecB)){\n",
    "    if(vecA[i]==vecB[j]){\n",
    "      vecM[k]<-vecA[i]\n",
    "      k=k+1\n",
    "    }\n",
    "      \n",
    "  }\n",
    "}\n",
    "cat(vecM,\"\\n\")"
   ]
  },
  {
   "cell_type": "markdown",
   "metadata": {},
   "source": [
    "## Write a function to get mean of a set of numbers\n",
    "\n",
    "Without using any pre defined function\n",
    "\n",
    "### Python"
   ]
  },
  {
   "cell_type": "code",
   "execution_count": 158,
   "metadata": {},
   "outputs": [
    {
     "data": {
      "text/plain": [
       "4"
      ]
     },
     "execution_count": 158,
     "metadata": {},
     "output_type": "execute_result"
    }
   ],
   "source": [
    "#Function\n",
    "def getMeanList(num):\n",
    "    sumNum = 0\n",
    "    lenNum = 0\n",
    "    for n in num:\n",
    "        sumNum = sumNum + n\n",
    "        lenNum = lenNum + 1\n",
    "  \n",
    "    mean = sumNum/lenNum\n",
    "    return mean\n",
    "\n",
    "#input\n",
    "inputNum = [2,4,6]\n",
    "getMeanList(inputNum)"
   ]
  },
  {
   "cell_type": "markdown",
   "metadata": {},
   "source": [
    "### R"
   ]
  },
  {
   "cell_type": "code",
   "execution_count": 162,
   "metadata": {},
   "outputs": [
    {
     "data": {
      "text/plain": [
       "[1] 4\n"
      ]
     },
     "metadata": {},
     "output_type": "display_data"
    }
   ],
   "source": [
    "%%R\n",
    "\n",
    "#function\n",
    "getMeanVec<-function(num=NULL){\n",
    "  sumNum<-0\n",
    "  lenNum<-0\n",
    "  for(i in num){\n",
    "    sumNum<-sumNum+i\n",
    "    lenNum<-lenNum+1    \n",
    "  }\n",
    "  mean = sumNum/lenNum\n",
    "  mean\n",
    "}\n",
    "\n",
    "#input\n",
    "inputNum<-c(2,4,6)\n",
    "getMeanVec(inputNum)"
   ]
  },
  {
   "cell_type": "markdown",
   "metadata": {},
   "source": [
    "## Split a series of random numbers by a threshold\n",
    "Generate a series of 10 random numbers between 1-100 and split them into those <50 and >50 (use functions if needed)\n",
    "\n",
    "### Python"
   ]
  },
  {
   "cell_type": "code",
   "execution_count": 163,
   "metadata": {},
   "outputs": [
    {
     "name": "stdout",
     "output_type": "stream",
     "text": [
      "0    67\n",
      "1    44\n",
      "2    62\n",
      "3    99\n",
      "4    37\n",
      "5    28\n",
      "6    75\n",
      "7    45\n",
      "8    42\n",
      "9    13\n",
      "dtype: int64\n",
      "1    44\n",
      "4    37\n",
      "5    28\n",
      "7    45\n",
      "8    42\n",
      "9    13\n",
      "dtype: int64\n",
      "0    67\n",
      "2    62\n",
      "3    99\n",
      "6    75\n",
      "dtype: int64\n"
     ]
    }
   ],
   "source": [
    "import random\n",
    "#Generate random numbers and convert into panda series\n",
    "rlist = random.sample(range(1, 100), 10)\n",
    "rseries = pd.Series(rlist)\n",
    "\n",
    "#split series\n",
    "value=50\n",
    "subset1=rseries[rseries<50]\n",
    "subset2=rseries[rseries>=50]\n",
    "\n",
    "#print output\n",
    "print(rseries)\n",
    "print(subset1)\n",
    "print(subset2)\n"
   ]
  },
  {
   "cell_type": "markdown",
   "metadata": {},
   "source": [
    "### R"
   ]
  },
  {
   "cell_type": "code",
   "execution_count": 164,
   "metadata": {},
   "outputs": [
    {
     "data": {
      "text/plain": [
       "85 13 90 24 91 70 54 96 20 86 \n",
       "13 24 20 \n",
       "85 90 91 70 54 96 86 \n"
      ]
     },
     "metadata": {},
     "output_type": "display_data"
    }
   ],
   "source": [
    "%%R\n",
    "\n",
    "rvector<-sample(100,10)\n",
    "subset1<-rvector[rvector<50]\n",
    "subset2<-rvector[rvector>=50]\n",
    "\n",
    "cat(rvector,\"\\n\")\n",
    "cat(subset1,\"\\n\")\n",
    "cat(subset2,\"\\n\")"
   ]
  },
  {
   "cell_type": "markdown",
   "metadata": {},
   "source": [
    "# Questions on data frame operations\n",
    "\n",
    "## Sample data frame Python pandas"
   ]
  },
  {
   "cell_type": "code",
   "execution_count": 126,
   "metadata": {},
   "outputs": [
    {
     "name": "stdout",
     "output_type": "stream",
     "text": [
      "    gene   drug  expression\n",
      "0   CDH1  drug1        10.0\n",
      "1   CDH1  drug2        15.0\n",
      "2  CHEK2  drug1         2.0\n",
      "3  CHEK2  drug2         1.5\n",
      "4   CDK4  drug1         3.0\n",
      "5   CDK4  drug2         3.1\n",
      " \n",
      "    gene   drug  methylation\n",
      "0   CDH1  drug1         0.50\n",
      "1   CDH1  drug2         0.70\n",
      "2  CHEK2  drug1         1.00\n",
      "3  CHEK2  drug2         0.87\n",
      "4   CDK4  drug1         0.70\n",
      "5   CDK4  drug2         0.25\n"
     ]
    }
   ],
   "source": [
    "data = [['CDH1','drug1',10],['CDH1','drug2',15],\n",
    "        ['CHEK2','drug1',2],['CHEK2','drug2',1.5],\n",
    "        ['CDK4','drug1',3],['CDK4','drug2',3.1]]\n",
    "expr = pd.DataFrame(data,columns=['gene','drug','expression'])\n",
    "\n",
    "data = [['CDH1','drug1',0.5],['CDH1','drug2',0.7],\n",
    "        ['CHEK2','drug1',1],['CHEK2','drug2',0.87],\n",
    "        ['CDK4','drug1',0.7],['CDK4','drug2',0.25]]\n",
    "metl = pd.DataFrame(data,columns=['gene','drug','methylation'])\n",
    "\n",
    "print(expr)\n",
    "print(\" \")\n",
    "print(metl)"
   ]
  },
  {
   "cell_type": "markdown",
   "metadata": {},
   "source": [
    "## Sample data frame R"
   ]
  },
  {
   "cell_type": "code",
   "execution_count": 142,
   "metadata": {},
   "outputs": [
    {
     "data": {
      "text/plain": [
       "   gene  drug expression\n",
       "1  CDH1 drug1       10.0\n",
       "2  CDH1 drug2       15.0\n",
       "3 CHEK2 drug1        2.0\n",
       "4 CHEK2 drug2        1.5\n",
       "5  CDK4 drug1        3.0\n",
       "6  CDK4 drug2        3.1\n",
       "\n",
       "   gene  drug methylation\n",
       "1  CDH1 drug1        0.50\n",
       "2  CDH1 drug2        0.70\n",
       "3 CHEK2 drug1        1.00\n",
       "4 CHEK2 drug2        0.87\n",
       "5  CDK4 drug1        0.70\n",
       "6  CDK4 drug2        0.25\n"
      ]
     },
     "metadata": {},
     "output_type": "display_data"
    }
   ],
   "source": [
    "%%R\n",
    "\n",
    "expr = data.frame(gene=rep(c(\"CDH1\",\"CHEK2\",\"CDK4\"),each=2),\n",
    "                  drug=rep(c(\"drug1\",\"drug2\"),3),\n",
    "                  expression=c(10,15,2,1.5,3,3.1))\n",
    "\n",
    "metl = data.frame(gene=rep(c(\"CDH1\",\"CHEK2\",\"CDK4\"),each=2),\n",
    "                  drug=rep(c(\"drug1\",\"drug2\"),3),\n",
    "                  methylation=c(0.5,0.7,1,0.87,0.7,0.25))\n",
    "\n",
    "print(expr)\n",
    "cat(\"\\n\")\n",
    "print(metl)"
   ]
  },
  {
   "cell_type": "markdown",
   "metadata": {},
   "source": [
    "## Merge data frames\n",
    "\n",
    "Given two data frames with common columns, merge them into a final dataframe\n",
    "\n",
    "\n",
    "### Python"
   ]
  },
  {
   "cell_type": "code",
   "execution_count": 139,
   "metadata": {},
   "outputs": [
    {
     "data": {
      "text/html": [
       "<div>\n",
       "<style scoped>\n",
       "    .dataframe tbody tr th:only-of-type {\n",
       "        vertical-align: middle;\n",
       "    }\n",
       "\n",
       "    .dataframe tbody tr th {\n",
       "        vertical-align: top;\n",
       "    }\n",
       "\n",
       "    .dataframe thead th {\n",
       "        text-align: right;\n",
       "    }\n",
       "</style>\n",
       "<table border=\"1\" class=\"dataframe\">\n",
       "  <thead>\n",
       "    <tr style=\"text-align: right;\">\n",
       "      <th></th>\n",
       "      <th>gene</th>\n",
       "      <th>drug</th>\n",
       "      <th>expression</th>\n",
       "      <th>methylation</th>\n",
       "    </tr>\n",
       "  </thead>\n",
       "  <tbody>\n",
       "    <tr>\n",
       "      <th>0</th>\n",
       "      <td>CDH1</td>\n",
       "      <td>drug1</td>\n",
       "      <td>10.0</td>\n",
       "      <td>0.50</td>\n",
       "    </tr>\n",
       "    <tr>\n",
       "      <th>1</th>\n",
       "      <td>CDH1</td>\n",
       "      <td>drug2</td>\n",
       "      <td>15.0</td>\n",
       "      <td>0.70</td>\n",
       "    </tr>\n",
       "    <tr>\n",
       "      <th>2</th>\n",
       "      <td>CHEK2</td>\n",
       "      <td>drug1</td>\n",
       "      <td>2.0</td>\n",
       "      <td>1.00</td>\n",
       "    </tr>\n",
       "    <tr>\n",
       "      <th>3</th>\n",
       "      <td>CHEK2</td>\n",
       "      <td>drug2</td>\n",
       "      <td>1.5</td>\n",
       "      <td>0.87</td>\n",
       "    </tr>\n",
       "    <tr>\n",
       "      <th>4</th>\n",
       "      <td>CDK4</td>\n",
       "      <td>drug1</td>\n",
       "      <td>3.0</td>\n",
       "      <td>0.70</td>\n",
       "    </tr>\n",
       "    <tr>\n",
       "      <th>5</th>\n",
       "      <td>CDK4</td>\n",
       "      <td>drug2</td>\n",
       "      <td>3.1</td>\n",
       "      <td>0.25</td>\n",
       "    </tr>\n",
       "  </tbody>\n",
       "</table>\n",
       "</div>"
      ],
      "text/plain": [
       "    gene   drug  expression  methylation\n",
       "0   CDH1  drug1        10.0         0.50\n",
       "1   CDH1  drug2        15.0         0.70\n",
       "2  CHEK2  drug1         2.0         1.00\n",
       "3  CHEK2  drug2         1.5         0.87\n",
       "4   CDK4  drug1         3.0         0.70\n",
       "5   CDK4  drug2         3.1         0.25"
      ]
     },
     "execution_count": 139,
     "metadata": {},
     "output_type": "execute_result"
    }
   ],
   "source": [
    "data = pd.merge(expr,metl,on=['gene','drug'],how='outer')\n",
    "data"
   ]
  },
  {
   "cell_type": "markdown",
   "metadata": {},
   "source": [
    "### R"
   ]
  },
  {
   "cell_type": "code",
   "execution_count": 144,
   "metadata": {},
   "outputs": [
    {
     "data": {
      "text/plain": [
       "   gene  drug expression methylation\n",
       "1  CDH1 drug1       10.0        0.50\n",
       "2  CDH1 drug2       15.0        0.70\n",
       "3  CDK4 drug1        3.0        0.70\n",
       "4  CDK4 drug2        3.1        0.25\n",
       "5 CHEK2 drug1        2.0        1.00\n",
       "6 CHEK2 drug2        1.5        0.87\n"
      ]
     },
     "metadata": {},
     "output_type": "display_data"
    }
   ],
   "source": [
    "%%R\n",
    "\n",
    "data = merge(expr,metl,by=c('gene','drug'))\n",
    "data"
   ]
  },
  {
   "cell_type": "markdown",
   "metadata": {},
   "source": [
    "## Group by features\n",
    "\n",
    "Get mean expression/methylation for each gene across treatments\n",
    "\n",
    "### Python"
   ]
  },
  {
   "cell_type": "code",
   "execution_count": 145,
   "metadata": {},
   "outputs": [
    {
     "data": {
      "text/plain": [
       "gene\n",
       "CDH1     12.50\n",
       "CDK4      3.05\n",
       "CHEK2     1.75\n",
       "Name: expression, dtype: float64"
      ]
     },
     "execution_count": 145,
     "metadata": {},
     "output_type": "execute_result"
    }
   ],
   "source": [
    "data.groupby(['gene'])['expression'].mean()"
   ]
  },
  {
   "cell_type": "markdown",
   "metadata": {},
   "source": [
    "### R"
   ]
  },
  {
   "cell_type": "code",
   "execution_count": 147,
   "metadata": {
    "scrolled": true
   },
   "outputs": [
    {
     "data": {
      "text/plain": [
       "   gene expression\n",
       "1  CDH1      12.50\n",
       "2  CDK4       3.05\n",
       "3 CHEK2       1.75\n"
      ]
     },
     "metadata": {},
     "output_type": "display_data"
    }
   ],
   "source": [
    "%%R \n",
    "\n",
    "aggregate(expression~gene,data,mean)"
   ]
  },
  {
   "cell_type": "markdown",
   "metadata": {},
   "source": [
    "## Get gene with max expression in response to drug1\n",
    "\n",
    "### Python"
   ]
  },
  {
   "cell_type": "code",
   "execution_count": 173,
   "metadata": {},
   "outputs": [
    {
     "data": {
      "text/html": [
       "<div>\n",
       "<style scoped>\n",
       "    .dataframe tbody tr th:only-of-type {\n",
       "        vertical-align: middle;\n",
       "    }\n",
       "\n",
       "    .dataframe tbody tr th {\n",
       "        vertical-align: top;\n",
       "    }\n",
       "\n",
       "    .dataframe thead th {\n",
       "        text-align: right;\n",
       "    }\n",
       "</style>\n",
       "<table border=\"1\" class=\"dataframe\">\n",
       "  <thead>\n",
       "    <tr style=\"text-align: right;\">\n",
       "      <th></th>\n",
       "      <th>gene</th>\n",
       "      <th>drug</th>\n",
       "      <th>expression</th>\n",
       "      <th>methylation</th>\n",
       "    </tr>\n",
       "  </thead>\n",
       "  <tbody>\n",
       "    <tr>\n",
       "      <th>0</th>\n",
       "      <td>CDH1</td>\n",
       "      <td>drug1</td>\n",
       "      <td>10.0</td>\n",
       "      <td>0.5</td>\n",
       "    </tr>\n",
       "  </tbody>\n",
       "</table>\n",
       "</div>"
      ],
      "text/plain": [
       "   gene   drug  expression  methylation\n",
       "0  CDH1  drug1        10.0          0.5"
      ]
     },
     "execution_count": 173,
     "metadata": {},
     "output_type": "execute_result"
    }
   ],
   "source": [
    "tmp = data[data['drug'] == 'drug1']\n",
    "tmp[tmp['expression'] == tmp.expression.max()]"
   ]
  },
  {
   "cell_type": "markdown",
   "metadata": {},
   "source": [
    "### R"
   ]
  },
  {
   "cell_type": "code",
   "execution_count": 175,
   "metadata": {},
   "outputs": [
    {
     "data": {
      "text/plain": [
       "  gene  drug expression methylation\n",
       "1 CDH1 drug1         10         0.5\n"
      ]
     },
     "metadata": {},
     "output_type": "display_data"
    }
   ],
   "source": [
    "%%R\n",
    "\n",
    "tmp<-data[data$drug=='drug1',]\n",
    "tmp[tmp$expression==max(tmp$expression),]"
   ]
  },
  {
   "cell_type": "markdown",
   "metadata": {},
   "source": [
    "# String operations\n",
    "\n",
    "## Reverse a string\n",
    "\n",
    "### Python"
   ]
  },
  {
   "cell_type": "code",
   "execution_count": 218,
   "metadata": {},
   "outputs": [
    {
     "data": {
      "text/plain": [
       "'CBA'"
      ]
     },
     "execution_count": 218,
     "metadata": {},
     "output_type": "execute_result"
    }
   ],
   "source": [
    "def reverse_string(str):  \n",
    "    str1 = \"\"   # Declaring empty string to store the reversed string  \n",
    "    for i in str:  \n",
    "        str1 = i + str1  \n",
    "    return str1    # It will return the reverse string to the caller functi\n",
    "\n",
    "reverse_string(\"ABC\")"
   ]
  },
  {
   "cell_type": "markdown",
   "metadata": {},
   "source": [
    "### R"
   ]
  },
  {
   "cell_type": "code",
   "execution_count": 217,
   "metadata": {},
   "outputs": [
    {
     "data": {
      "text/plain": [
       "[1] \"CBA\"\n"
      ]
     },
     "metadata": {},
     "output_type": "display_data"
    }
   ],
   "source": [
    "%%R\n",
    "\n",
    "revString<-function(string=NULL){\n",
    "  tmp<-unlist(strsplit(string,\"\"))\n",
    "  tmpR<-vector()\n",
    "  for(i in 1:length(tmp)){\n",
    "    tmpR<- c(tmp[i],tmpR)    \n",
    "  }\n",
    "  stringRev=paste(tmpR,collapse=\"\")\n",
    "  stringRev\n",
    "}\n",
    "\n",
    "revString(\"ABC\")"
   ]
  },
  {
   "cell_type": "markdown",
   "metadata": {},
   "source": [
    "# Questions on bash commands\n",
    "\n",
    "## Find names of files with suffix .vcf in a given directory"
   ]
  },
  {
   "cell_type": "code",
   "execution_count": 186,
   "metadata": {},
   "outputs": [
    {
     "name": "stdout",
     "output_type": "stream",
     "text": [
      "./b.vcf\n"
     ]
    }
   ],
   "source": [
    "%%bash\n",
    "\n",
    "#input\n",
    "touch a.txt\n",
    "touch b.vcf\n",
    "\n",
    "find . -regextype sed -regex \".*/.*.vcf$\""
   ]
  },
  {
   "cell_type": "markdown",
   "metadata": {},
   "source": [
    "## Sort values in a bed file and get number of unique elements and count of elements"
   ]
  },
  {
   "cell_type": "code",
   "execution_count": 189,
   "metadata": {},
   "outputs": [
    {
     "name": "stdout",
     "output_type": "stream",
     "text": [
      "      3 a\n",
      "      2 b\n",
      "      3 c\n",
      "      1 z\n"
     ]
    }
   ],
   "source": [
    "%%bash\n",
    "\n",
    "#input\n",
    "printf \"a\\na\\nb\\nc\\na\\nz\\nc\\nc\\nb\" > tmp.txt\n",
    "\n",
    "#sort\n",
    "sort tmp.txt|uniq -c"
   ]
  },
  {
   "cell_type": "markdown",
   "metadata": {},
   "source": [
    "## Sort a BED files by chromosome and position"
   ]
  },
  {
   "cell_type": "code",
   "execution_count": 196,
   "metadata": {},
   "outputs": [
    {
     "name": "stdout",
     "output_type": "stream",
     "text": [
      "chr1\t10\t40\n",
      "chr1\t1\t10\n",
      "chr10\t12\t15\n",
      "chr3\t15\t25\n",
      "chr10\t1\t5\n",
      " \n",
      "chr1\t1\t10\n",
      "chr1\t10\t40\n",
      "chr10\t1\t5\n",
      "chr10\t12\t15\n",
      "chr3\t15\t25\n",
      " \n",
      "chr1\t1\t10\n",
      "chr1\t10\t40\n",
      "chr3\t15\t25\n",
      "chr10\t1\t5\n",
      "chr10\t12\t15\n"
     ]
    }
   ],
   "source": [
    "%%bash\n",
    "\n",
    "#input\n",
    "rm -f tmp.bed\n",
    "printf \"chr1\\t10\\t40\\n\" >> tmp.bed\n",
    "printf \"chr1\\t1\\t10\\n\" >> tmp.bed\n",
    "printf \"chr10\\t12\\t15\\n\" >> tmp.bed\n",
    "printf \"chr3\\t15\\t25\\n\" >> tmp.bed\n",
    "printf \"chr10\\t1\\t5\\n\" >> tmp.bed\n",
    "\n",
    "cat tmp.bed\n",
    "echo \" \"\n",
    "\n",
    "#sort\n",
    "sort -k1,1 -k2,2n tmp.bed #regular\n",
    "\n",
    "echo \" \"\n",
    "\n",
    "sort -k1,1V -k2,2n tmp.bed #lexicographic"
   ]
  }
 ],
 "metadata": {
  "kernelspec": {
   "display_name": "Python 2",
   "language": "python",
   "name": "python2"
  },
  "language_info": {
   "codemirror_mode": {
    "name": "ipython",
    "version": 2
   },
   "file_extension": ".py",
   "mimetype": "text/x-python",
   "name": "python",
   "nbconvert_exporter": "python",
   "pygments_lexer": "ipython2",
   "version": "2.7.17"
  },
  "toc": {
   "base_numbering": 1,
   "nav_menu": {},
   "number_sections": true,
   "sideBar": true,
   "skip_h1_title": false,
   "title_cell": "Table of Contents",
   "title_sidebar": "Contents",
   "toc_cell": false,
   "toc_position": {
    "height": "calc(100% - 180px)",
    "left": "10px",
    "top": "150px",
    "width": "462.867px"
   },
   "toc_section_display": true,
   "toc_window_display": true
  }
 },
 "nbformat": 4,
 "nbformat_minor": 2
}
